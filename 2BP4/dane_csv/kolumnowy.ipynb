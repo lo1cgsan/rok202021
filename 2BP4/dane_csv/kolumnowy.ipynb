{
 "cells": [
  {
   "cell_type": "code",
   "execution_count": 2,
   "id": "b7d2cb1e",
   "metadata": {},
   "outputs": [
    {
     "name": "stdout",
     "output_type": "stream",
     "text": [
      "['Klasa', 'Średnia ocen', 'Frekwencja']\n"
     ]
    },
    {
     "data": {
      "image/png": "[encoded data removed]",
      "text/plain": [
       "<Figure size 432x288 with 1 Axes>"
      ]
     },
     "metadata": {
      "needs_background": "light"
     },
     "output_type": "display_data"
    },
    {
     "data": {
      "text/plain": [
       "0"
      ]
     },
     "execution_count": 2,
     "metadata": {},
     "output_type": "execute_result"
    }
   ],
   "source": [
    "import csv\n",
    "import numpy as np\n",
    "import matplotlib.pyplot as plt\n",
    "\n",
    "\n",
    "def czytaj_csv(nazwa_pliku, separator=','):\n",
    "    dane = []\n",
    "    with open(nazwa_pliku, newline='', encoding='utf-8') as plik_csv:\n",
    "        tresc = csv.reader(plik_csv, delimiter=separator)\n",
    "        for wiersz in tresc:\n",
    "            dane.append(wiersz)\n",
    "    return dane\n",
    "\n",
    "\n",
    "def main():\n",
    "    dane = czytaj_csv('dane_klasa1A.csv',';')\n",
    "    print(dane.pop(0))\n",
    "    #print(dane)\n",
    "    \n",
    "    nazwy_klas = [wiersz[0] for wiersz in dane]\n",
    "    srednie = [float(wiersz[1].replace(',', '.')) for wiersz in dane]\n",
    "    frekwencje = [wiersz[2] for wiersz in dane]\n",
    "\n",
    "    wsp_x = np.arange(len(srednie))\n",
    "    plt.bar(wsp_x, srednie)\n",
    "    plt.show()\n",
    "    return 0\n",
    "\n",
    "\n",
    "main()\n"
   ]
  },
  {
   "cell_type": "code",
   "execution_count": null,
   "id": "2c65aafb",
   "metadata": {},
   "outputs": [],
   "source": []
  }
 ],
 "metadata": {
  "kernelspec": {
   "display_name": "Python 3",
   "language": "python",
   "name": "python3"
  },
  "language_info": {
   "codemirror_mode": {
    "name": "ipython",
    "version": 3
   },
   "file_extension": ".py",
   "mimetype": "text/x-python",
   "name": "python",
   "nbconvert_exporter": "python",
   "pygments_lexer": "ipython3",
   "version": "3.9.1"
  }
 },
 "nbformat": 4,
 "nbformat_minor": 5
}
