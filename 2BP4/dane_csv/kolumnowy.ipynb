{
 "cells": [
  {
   "cell_type": "code",
   "execution_count": 5,
   "id": "b7d2cb1e",
   "metadata": {},
   "outputs": [
    {
     "name": "stdout",
     "output_type": "stream",
     "text": [
      "['Klasa', 'Średnia ocen', 'Frekwencja']\n"
     ]
    },
    {
     "data": {
      "image/png": "[encoded data removed]",
      "text/plain": [
       "<Figure size 432x288 with 2 Axes>"
      ]
     },
     "metadata": {
      "needs_background": "light"
     },
     "output_type": "display_data"
    },
    {
     "data": {
      "text/plain": [
       "0"
      ]
     },
     "execution_count": 5,
     "metadata": {},
     "output_type": "execute_result"
    }
   ],
   "source": [
    "import csv\n",
    "import numpy as np\n",
    "import matplotlib.pyplot as plt\n",
    "\n",
    "\n",
    "def czytaj_csv(nazwa_pliku, separator=','):\n",
    "    dane = []\n",
    "    with open(nazwa_pliku, newline='', encoding='utf-8') as plik_csv:\n",
    "        tresc = csv.reader(plik_csv, delimiter=separator)\n",
    "        for wiersz in tresc:\n",
    "            dane.append(wiersz)\n",
    "    return dane\n",
    "\n",
    "\n",
    "def main():\n",
    "    dane = czytaj_csv('dane_klasa1A.csv',';')\n",
    "    print(dane.pop(0))\n",
    "    #print(dane)\n",
    "    \n",
    "    nazwy_klas = [wiersz[0] for wiersz in dane]\n",
    "    srednie = [float(wiersz[1].replace(',', '.')) for wiersz in dane]\n",
    "    frekwencje = [float(wiersz[2].strip('%'))/100 for wiersz in dane]\n",
    "\n",
    "    wsp_x = np.arange(len(srednie))\n",
    "    plt.bar(wsp_x, srednie)\n",
    "    \n",
    "    plt.twinx()\n",
    "    plt.plot(frekwencje, \"go\")\n",
    "    \n",
    "    plt.show()\n",
    "    return 0\n",
    "\n",
    "\n",
    "main()\n"
   ]
  },
  {
   "cell_type": "code",
   "execution_count": 11,
   "id": "2c65aafb",
   "metadata": {},
   "outputs": [
    {
     "data": {
      "image/png": "[encoded data removed]",
      "text/plain": [
       "<Figure size 432x288 with 1 Axes>"
      ]
     },
     "metadata": {},
     "output_type": "display_data"
    },
    {
     "data": {
      "text/plain": [
       "0"
      ]
     },
     "execution_count": 11,
     "metadata": {},
     "output_type": "execute_result"
    }
   ],
   "source": [
    "import csv\n",
    "import numpy as np\n",
    "import matplotlib.pyplot as plt\n",
    "\n",
    "\n",
    "def czytaj_csv(nazwa_pliku, separator=','):\n",
    "    dane = []\n",
    "    with open(nazwa_pliku, newline='', encoding='utf-8') as plik_csv:\n",
    "        tresc = csv.reader(plik_csv, delimiter=separator)\n",
    "        for wiersz in tresc:\n",
    "            dane.append(wiersz)\n",
    "    return dane\n",
    "\n",
    "\n",
    "def main():\n",
    "    dane = czytaj_csv('dane_wybory.csv',';')\n",
    "    #print(dane)\n",
    "    \n",
    "    etykiety = [wiersz[0] for wiersz in dane]\n",
    "    glosy = [int(wiersz[1]) for wiersz in dane]\n",
    "    \n",
    "    plt.pie(glosy, [0.1, 0, 0, 0.05], etykiety)\n",
    "    plt.show()\n",
    "    return 0\n",
    "\n",
    "\n",
    "main()"
   ]
  },
  {
   "cell_type": "code",
   "execution_count": null,
   "id": "6f10eb25",
   "metadata": {},
   "outputs": [],
   "source": []
  }
 ],
 "metadata": {
  "kernelspec": {
   "display_name": "Python 3",
   "language": "python",
   "name": "python3"
  },
  "language_info": {
   "codemirror_mode": {
    "name": "ipython",
    "version": 3
   },
   "file_extension": ".py",
   "mimetype": "text/x-python",
   "name": "python",
   "nbconvert_exporter": "python",
   "pygments_lexer": "ipython3",
   "version": "3.9.1"
  }
 },
 "nbformat": 4,
 "nbformat_minor": 5
}
