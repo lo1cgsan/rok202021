{
 "cells": [
  {
   "cell_type": "code",
   "execution_count": 9,
   "id": "2f2dc126",
   "metadata": {},
   "outputs": [
    {
     "name": "stdout",
     "output_type": "stream",
     "text": [
      "Podaj liczbę: 30\n",
      "Podaj liczbę: 23\n",
      "Podaj liczbę: 12\n",
      "Podaj liczbę: -7\n",
      "Podaj liczbę: 30\n",
      "Suma liczb: 88\n",
      "Wprowadzono 5 liczb.\n"
     ]
    }
   ],
   "source": [
    "def main():\n",
    "    suma = 0\n",
    "    licznik = 0\n",
    "    while suma <= 75:\n",
    "        liczba = int(input(\"Podaj liczbę: \"))\n",
    "        licznik = licznik + 1\n",
    "        suma = suma + liczba\n",
    "    \n",
    "    print(\"Suma liczb:\", suma)\n",
    "    print(f\"Wprowadzono {licznik} liczb.\")\n",
    "        \n",
    "main()"
   ]
  },
  {
   "cell_type": "code",
   "execution_count": 24,
   "id": "1e109324",
   "metadata": {},
   "outputs": [
    {
     "name": "stdout",
     "output_type": "stream",
     "text": [
      "Podaj liczbę: 10\n",
      "Podaj liczbę: 23\n",
      "Iloczyn: 230\n",
      "Iloraz: 0.43478260869565216\n",
      "Podaj liczbę: 34\n",
      "Podaj liczbę: 6\n",
      "Iloczyn: 204\n",
      "Iloraz: 5.666666666666667\n",
      "Podaj liczbę: 2\n",
      "Podaj liczbę: 9\n",
      "Iloczyn: 18\n",
      "Iloraz: 0.2222222222222222\n",
      "Podaj liczbę: 12\n",
      "Podaj liczbę: 23\n",
      "Iloczyn: 276\n",
      "Iloraz: 0.5217391304347826\n",
      "Podaj liczbę: 0\n",
      "Podaj liczbę: 23\n"
     ]
    },
    {
     "data": {
      "text/plain": [
       "0"
      ]
     },
     "execution_count": 24,
     "metadata": {},
     "output_type": "execute_result"
    }
   ],
   "source": [
    "def main():\n",
    "    a = int(input(\"Podaj liczbę: \"))\n",
    "    b = int(input(\"Podaj liczbę: \"))\n",
    "    while a != 0 and b != 0:\n",
    "        print(\"Iloczyn:\", a * b)\n",
    "        # if b == 0:\n",
    "        #    print(\"Błędne dane!\")\n",
    "        #else:\n",
    "        print(\"Iloraz:\", a / b)\n",
    "        a = int(input(\"Podaj liczbę: \"))\n",
    "        b = int(input(\"Podaj liczbę: \"))\n",
    "\n",
    "    return 0\n",
    "\n",
    "\n",
    "main()"
   ]
  },
  {
   "cell_type": "code",
   "execution_count": 19,
   "id": "68acf8c8",
   "metadata": {},
   "outputs": [
    {
     "data": {
      "text/plain": [
       "True"
      ]
     },
     "execution_count": 19,
     "metadata": {},
     "output_type": "execute_result"
    }
   ],
   "source": [
    "b = 0\n",
    "b == 0"
   ]
  }
 ],
 "metadata": {
  "kernelspec": {
   "display_name": "Python 3",
   "language": "python",
   "name": "python3"
  },
  "language_info": {
   "codemirror_mode": {
    "name": "ipython",
    "version": 3
   },
   "file_extension": ".py",
   "mimetype": "text/x-python",
   "name": "python",
   "nbconvert_exporter": "python",
   "pygments_lexer": "ipython3",
   "version": "3.9.1"
  }
 },
 "nbformat": 4,
 "nbformat_minor": 5
}
