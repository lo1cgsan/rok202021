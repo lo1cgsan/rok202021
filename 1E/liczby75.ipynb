{
 "cells": [
  {
   "cell_type": "code",
   "execution_count": 9,
   "id": "2f2dc126",
   "metadata": {},
   "outputs": [
    {
     "name": "stdout",
     "output_type": "stream",
     "text": [
      "Podaj liczbę: 30\n",
      "Podaj liczbę: 23\n",
      "Podaj liczbę: 12\n",
      "Podaj liczbę: -7\n",
      "Podaj liczbę: 30\n",
      "Suma liczb: 88\n",
      "Wprowadzono 5 liczb.\n"
     ]
    }
   ],
   "source": [
    "def main():\n",
    "    suma = 0\n",
    "    licznik = 0\n",
    "    while suma <= 75:\n",
    "        liczba = int(input(\"Podaj liczbę: \"))\n",
    "        licznik = licznik + 1\n",
    "        suma = suma + liczba\n",
    "    \n",
    "    print(\"Suma liczb:\", suma)\n",
    "    print(f\"Wprowadzono {licznik} liczb.\")\n",
    "        \n",
    "main()"
   ]
  },
  {
   "cell_type": "code",
   "execution_count": 4,
   "id": "1e109324",
   "metadata": {},
   "outputs": [
    {
     "data": {
      "text/plain": [
       "True"
      ]
     },
     "execution_count": 4,
     "metadata": {},
     "output_type": "execute_result"
    }
   ],
   "source": [
    "suma = 0\n",
    "suma <= 75"
   ]
  }
 ],
 "metadata": {
  "kernelspec": {
   "display_name": "Python 3",
   "language": "python",
   "name": "python3"
  },
  "language_info": {
   "codemirror_mode": {
    "name": "ipython",
    "version": 3
   },
   "file_extension": ".py",
   "mimetype": "text/x-python",
   "name": "python",
   "nbconvert_exporter": "python",
   "pygments_lexer": "ipython3",
   "version": "3.9.1"
  }
 },
 "nbformat": 4,
 "nbformat_minor": 5
}
