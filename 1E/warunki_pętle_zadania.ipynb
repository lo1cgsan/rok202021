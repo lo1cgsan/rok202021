{
 "cells": [
  {
   "cell_type": "markdown",
   "id": "revolutionary-gateway",
   "metadata": {},
   "source": [
    "Napisz program, który pobiera liczby wprowadzane przez użytkownika, aż do momentu, gdy ich suma przekroczy wartość 75. Przed końcem program powinien wyświetlić sumę wprowadzonych liczb."
   ]
  },
  {
   "cell_type": "code",
   "execution_count": 9,
   "id": "chronic-palace",
   "metadata": {},
   "outputs": [
    {
     "name": "stdout",
     "output_type": "stream",
     "text": [
      "Podaj liczbę: 30\n",
      "Podaj liczbę: 23\n",
      "Podaj liczbę: 12\n",
      "Podaj liczbę: -7\n",
      "Podaj liczbę: 30\n",
      "Suma liczb: 88\n",
      "Wprowadzono 5 liczb.\n"
     ]
    }
   ],
   "source": [
    "def main():\n",
    "    suma = 0\n",
    "    licznik = 0\n",
    "    while suma <= 75:\n",
    "        liczba = int(input(\"Podaj liczbę: \"))\n",
    "        licznik = licznik + 1\n",
    "        suma = suma + liczba\n",
    "    \n",
    "    print(\"Suma liczb:\", suma)\n",
    "    print(f\"Wprowadzono {licznik} liczb.\")\n",
    "        \n",
    "main()"
   ]
  },
  {
   "cell_type": "code",
   "execution_count": 4,
   "id": "worse-revision",
   "metadata": {},
   "outputs": [
    {
     "data": {
      "text/plain": [
       "True"
      ]
     },
     "execution_count": 4,
     "metadata": {},
     "output_type": "execute_result"
    }
   ],
   "source": [
    "suma = 0\n",
    "suma <= 75"
   ]
  },
  {
   "cell_type": "markdown",
   "id": "acknowledged-orange",
   "metadata": {},
   "source": [
    "Napisz program, który wypisuje kolejne liczby naturalne oddzielone spacjami z dodatniego przedziału <n,m> określonego przez użytkownika."
   ]
  },
  {
   "cell_type": "code",
   "execution_count": 17,
   "id": "nasty-beach",
   "metadata": {},
   "outputs": [
    {
     "name": "stdout",
     "output_type": "stream",
     "text": [
      "Podaj lewy zakres: 15\n",
      "Podaj prawy zakres: 10\n",
      "Błędne dane!\n"
     ]
    }
   ],
   "source": [
    "# pobieramy dane wejściowe\n",
    "n = int(input(\"Podaj lewy zakres: \"))\n",
    "m = int(input(\"Podaj prawy zakres: \"))\n",
    "# sprawdzamy poprawność danych wejściowych\n",
    "if n < m:\n",
    "    for liczba in range(n, m + 1):\n",
    "        print(liczba, end=' ')\n",
    "else:\n",
    "    print(\"Błędne dane!\")"
   ]
  },
  {
   "cell_type": "markdown",
   "id": "functional-bachelor",
   "metadata": {},
   "source": [
    "Napisz program, który wyświetla kwadraty kolejnych liczb naturalnych, począwszy od zera a skończywszy na kwadracie liczby podanej przez użytkownika."
   ]
  },
  {
   "cell_type": "code",
   "execution_count": 21,
   "id": "defined-workstation",
   "metadata": {},
   "outputs": [
    {
     "name": "stdout",
     "output_type": "stream",
     "text": [
      "Podaj liczbę: 10\n",
      "0\n",
      "1\n",
      "4\n",
      "9\n",
      "16\n",
      "25\n",
      "36\n",
      "49\n",
      "64\n",
      "81\n",
      "100\n"
     ]
    }
   ],
   "source": [
    "# dane wejściowe\n",
    "liczba = int(input(\"Podaj liczbę: \"))\n",
    "for x in range(liczba + 1):\n",
    "    print(x**2)"
   ]
  }
 ],
 "metadata": {
  "kernelspec": {
   "display_name": "Python 3",
   "language": "python",
   "name": "python3"
  },
  "language_info": {
   "codemirror_mode": {
    "name": "ipython",
    "version": 3
   },
   "file_extension": ".py",
   "mimetype": "text/x-python",
   "name": "python",
   "nbconvert_exporter": "python",
   "pygments_lexer": "ipython3",
   "version": "3.8.5"
  }
 },
 "nbformat": 4,
 "nbformat_minor": 5
}
